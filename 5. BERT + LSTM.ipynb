{
 "cells": [
  {
   "cell_type": "markdown",
   "metadata": {},
   "source": [
    "# **Bert + LSTM**"
   ]
  },
  {
   "cell_type": "code",
   "execution_count": 1,
   "metadata": {
    "execution": {
     "iopub.execute_input": "2025-08-01T23:58:44.054228Z",
     "iopub.status.busy": "2025-08-01T23:58:44.053713Z",
     "iopub.status.idle": "2025-08-02T00:00:29.227096Z",
     "shell.execute_reply": "2025-08-02T00:00:29.225750Z",
     "shell.execute_reply.started": "2025-08-01T23:58:44.054203Z"
    },
    "trusted": true
   },
   "outputs": [
    {
     "name": "stdout",
     "output_type": "stream",
     "text": [
      "\u001b[2K     \u001b[90m━━━━━━━━━━━━━━━━━━━━━━━━━━━━━━━━━━━━━━━━\u001b[0m \u001b[32m55.5/55.5 kB\u001b[0m \u001b[31m2.5 MB/s\u001b[0m eta \u001b[36m0:00:00\u001b[0m\n",
      "\u001b[?25h  Preparing metadata (setup.py) ... \u001b[?25l\u001b[?25hdone\n",
      "\u001b[2K     \u001b[90m━━━━━━━━━━━━━━━━━━━━━━━━━━━━━━━━━━━━━━━━\u001b[0m \u001b[32m3.6/3.6 MB\u001b[0m \u001b[31m46.1 MB/s\u001b[0m eta \u001b[36m0:00:00\u001b[0m00:01\u001b[0m00:01\u001b[0m\n",
      "\u001b[?25h  Preparing metadata (setup.py) ... \u001b[?25l\u001b[?25hdone\n",
      "\u001b[2K     \u001b[90m━━━━━━━━━━━━━━━━━━━━━━━━━━━━━━━━━━━━━━\u001b[0m \u001b[32m981.5/981.5 kB\u001b[0m \u001b[31m44.7 MB/s\u001b[0m eta \u001b[36m0:00:00\u001b[0m\n",
      "\u001b[?25h  Preparing metadata (setup.py) ... \u001b[?25l\u001b[?25hdone\n",
      "  Preparing metadata (setup.py) ... \u001b[?25l\u001b[?25hdone\n",
      "  Preparing metadata (setup.py) ... \u001b[?25l\u001b[?25hdone\n",
      "  Preparing metadata (setup.py) ... \u001b[?25l\u001b[?25hdone\n",
      "  Preparing metadata (setup.py) ... \u001b[?25l\u001b[?25hdone\n",
      "  Preparing metadata (setup.py) ... \u001b[?25l\u001b[?25hdone\n",
      "\u001b[2K   \u001b[90m━━━━━━━━━━━━━━━━━━━━━━━━━━━━━━━━━━━━━━━━\u001b[0m \u001b[32m363.4/363.4 MB\u001b[0m \u001b[31m4.1 MB/s\u001b[0m eta \u001b[36m0:00:00\u001b[0m:00:01\u001b[0m00:01\u001b[0m\n",
      "\u001b[2K   \u001b[90m━━━━━━━━━━━━━━━━━━━━━━━━━━━━━━━━━━━━━━━━\u001b[0m \u001b[32m13.8/13.8 MB\u001b[0m \u001b[31m88.6 MB/s\u001b[0m eta \u001b[36m0:00:00\u001b[0m:00:01\u001b[0m00:01\u001b[0m\n",
      "\u001b[2K   \u001b[90m━━━━━━━━━━━━━━━━━━━━━━━━━━━━━━━━━━━━━━━━\u001b[0m \u001b[32m24.6/24.6 MB\u001b[0m \u001b[31m73.4 MB/s\u001b[0m eta \u001b[36m0:00:00\u001b[0m:00:01\u001b[0m00:01\u001b[0m\n",
      "\u001b[2K   \u001b[90m━━━━━━━━━━━━━━━━━━━━━━━━━━━━━━━━━━━━━━━━\u001b[0m \u001b[32m883.7/883.7 kB\u001b[0m \u001b[31m43.6 MB/s\u001b[0m eta \u001b[36m0:00:00\u001b[0m\n",
      "\u001b[2K   \u001b[90m━━━━━━━━━━━━━━━━━━━━━━━━━━━━━━━━━━━━━━━━\u001b[0m \u001b[32m664.8/664.8 MB\u001b[0m \u001b[31m2.6 MB/s\u001b[0m eta \u001b[36m0:00:00\u001b[0m:00:01\u001b[0m00:01\u001b[0m\n",
      "\u001b[2K   \u001b[90m━━━━━━━━━━━━━━━━━━━━━━━━━━━━━━━━━━━━━━━━\u001b[0m \u001b[32m211.5/211.5 MB\u001b[0m \u001b[31m8.1 MB/s\u001b[0m eta \u001b[36m0:00:00\u001b[0m:00:01\u001b[0m00:01\u001b[0m\n",
      "\u001b[2K   \u001b[90m━━━━━━━━━━━━━━━━━━━━━━━━━━━━━━━━━━━━━━━━\u001b[0m \u001b[32m56.3/56.3 MB\u001b[0m \u001b[31m30.3 MB/s\u001b[0m eta \u001b[36m0:00:00\u001b[0m:00:01\u001b[0m00:01\u001b[0m\n",
      "\u001b[2K   \u001b[90m━━━━━━━━━━━━━━━━━━━━━━━━━━━━━━━━━━━━━━━━\u001b[0m \u001b[32m127.9/127.9 MB\u001b[0m \u001b[31m8.7 MB/s\u001b[0m eta \u001b[36m0:00:00\u001b[0m:00:01\u001b[0m00:01\u001b[0m\n",
      "\u001b[2K   \u001b[90m━━━━━━━━━━━━━━━━━━━━━━━━━━━━━━━━━━━━━━━━\u001b[0m \u001b[32m207.5/207.5 MB\u001b[0m \u001b[31m8.2 MB/s\u001b[0m eta \u001b[36m0:00:00\u001b[0m:00:01\u001b[0m00:01\u001b[0m\n",
      "\u001b[2K   \u001b[90m━━━━━━━━━━━━━━━━━━━━━━━━━━━━━━━━━━━━━━━━\u001b[0m \u001b[32m21.1/21.1 MB\u001b[0m \u001b[31m77.6 MB/s\u001b[0m eta \u001b[36m0:00:00\u001b[0m:00:01\u001b[0m00:01\u001b[0m\n",
      "\u001b[2K   \u001b[90m━━━━━━━━━━━━━━━━━━━━━━━━━━━━━━━━━━━━━━━━\u001b[0m \u001b[32m445.7/445.7 kB\u001b[0m \u001b[31m14.5 MB/s\u001b[0m eta \u001b[36m0:00:00\u001b[0m\n",
      "\u001b[2K   \u001b[90m━━━━━━━━━━━━━━━━━━━━━━━━━━━━━━━━━━━━━━━━\u001b[0m \u001b[32m61.1/61.1 kB\u001b[0m \u001b[31m3.1 MB/s\u001b[0m eta \u001b[36m0:00:00\u001b[0m\n",
      "\u001b[2K   \u001b[90m━━━━━━━━━━━━━━━━━━━━━━━━━━━━━━━━━━━━━━━━\u001b[0m \u001b[32m193.6/193.6 kB\u001b[0m \u001b[31m12.1 MB/s\u001b[0m eta \u001b[36m0:00:00\u001b[0m\n",
      "\u001b[2K   \u001b[90m━━━━━━━━━━━━━━━━━━━━━━━━━━━━━━━━━━━━━━━━\u001b[0m \u001b[32m1.2/1.2 MB\u001b[0m \u001b[31m47.4 MB/s\u001b[0m eta \u001b[36m0:00:00\u001b[0m\n",
      "\u001b[2K   \u001b[90m━━━━━━━━━━━━━━━━━━━━━━━━━━━━━━━━━━━━━━━━\u001b[0m \u001b[32m55.6/55.6 kB\u001b[0m \u001b[31m2.9 MB/s\u001b[0m eta \u001b[36m0:00:00\u001b[0m\n",
      "\u001b[2K   \u001b[90m━━━━━━━━━━━━━━━━━━━━━━━━━━━━━━━━━━━━━━━━\u001b[0m \u001b[32m769.7/769.7 kB\u001b[0m \u001b[31m43.3 MB/s\u001b[0m eta \u001b[36m0:00:00\u001b[0m\n",
      "\u001b[2K   \u001b[90m━━━━━━━━━━━━━━━━━━━━━━━━━━━━━━━━━━━━━━━━\u001b[0m \u001b[32m163.5/163.5 kB\u001b[0m \u001b[31m12.4 MB/s\u001b[0m eta \u001b[36m0:00:00\u001b[0m\n",
      "\u001b[2K   \u001b[90m━━━━━━━━━━━━━━━━━━━━━━━━━━━━━━━━━━━━━━━━\u001b[0m \u001b[32m44.8/44.8 kB\u001b[0m \u001b[31m2.7 MB/s\u001b[0m eta \u001b[36m0:00:00\u001b[0m\n",
      "\u001b[2K   \u001b[90m━━━━━━━━━━━━━━━━━━━━━━━━━━━━━━━━━━━━━━━━\u001b[0m \u001b[32m45.1/45.1 kB\u001b[0m \u001b[31m2.3 MB/s\u001b[0m eta \u001b[36m0:00:00\u001b[0m\n",
      "\u001b[?25h  Building wheel for pinyin (setup.py) ... \u001b[?25l\u001b[?25hdone\n",
      "  Building wheel for word2number (setup.py) ... \u001b[?25l\u001b[?25hdone\n",
      "  Building wheel for docopt (setup.py) ... \u001b[?25l\u001b[?25hdone\n",
      "  Building wheel for langdetect (setup.py) ... \u001b[?25l\u001b[?25hdone\n",
      "  Building wheel for pptree (setup.py) ... \u001b[?25l\u001b[?25hdone\n",
      "  Building wheel for sqlitedict (setup.py) ... \u001b[?25l\u001b[?25hdone\n",
      "  Building wheel for wikipedia-api (setup.py) ... \u001b[?25l\u001b[?25hdone\n",
      "  Building wheel for intervaltree (setup.py) ... \u001b[?25l\u001b[?25hdone\n",
      "\u001b[31mERROR: pip's dependency resolver does not currently take into account all the packages that are installed. This behaviour is the source of the following dependency conflicts.\n",
      "bigframes 2.8.0 requires google-cloud-bigquery-storage<3.0.0,>=2.30.0, which is not installed.\n",
      "cesium 0.12.4 requires numpy<3.0,>=2.0, but you have numpy 1.26.4 which is incompatible.\n",
      "gcsfs 2025.3.2 requires fsspec==2025.3.2, but you have fsspec 2025.3.0 which is incompatible.\n",
      "bigframes 2.8.0 requires google-cloud-bigquery[bqstorage,pandas]>=3.31.0, but you have google-cloud-bigquery 3.25.0 which is incompatible.\n",
      "bigframes 2.8.0 requires rich<14,>=12.4.4, but you have rich 14.0.0 which is incompatible.\u001b[0m\u001b[31m\n",
      "\u001b[0m"
     ]
    }
   ],
   "source": [
    "!pip install -q transformers torch scikit-learn tqdm textattack"
   ]
  },
  {
   "cell_type": "code",
   "execution_count": 2,
   "metadata": {
    "execution": {
     "iopub.execute_input": "2025-08-02T00:00:29.229543Z",
     "iopub.status.busy": "2025-08-02T00:00:29.229175Z",
     "iopub.status.idle": "2025-08-02T00:01:10.552642Z",
     "shell.execute_reply": "2025-08-02T00:01:10.551867Z",
     "shell.execute_reply.started": "2025-08-02T00:00:29.229505Z"
    },
    "trusted": true
   },
   "outputs": [
    {
     "name": "stderr",
     "output_type": "stream",
     "text": [
      "textattack: Updating TextAttack package dependencies.\n",
      "textattack: Downloading NLTK required packages.\n",
      "[nltk_data] Downloading package averaged_perceptron_tagger to\n",
      "[nltk_data]     /usr/share/nltk_data...\n",
      "[nltk_data]   Package averaged_perceptron_tagger is already up-to-\n",
      "[nltk_data]       date!\n",
      "[nltk_data] Downloading package stopwords to /usr/share/nltk_data...\n",
      "[nltk_data]   Package stopwords is already up-to-date!\n",
      "[nltk_data] Downloading package omw to /usr/share/nltk_data...\n",
      "[nltk_data]   Package omw is already up-to-date!\n",
      "[nltk_data] Downloading package universal_tagset to\n",
      "[nltk_data]     /usr/share/nltk_data...\n",
      "[nltk_data]   Package universal_tagset is already up-to-date!\n",
      "[nltk_data] Downloading package wordnet to /usr/share/nltk_data...\n",
      "[nltk_data]   Package wordnet is already up-to-date!\n",
      "[nltk_data] Downloading package punkt to /usr/share/nltk_data...\n",
      "[nltk_data]   Package punkt is already up-to-date!\n",
      "2025-08-02 00:00:48.665869: E external/local_xla/xla/stream_executor/cuda/cuda_fft.cc:477] Unable to register cuFFT factory: Attempting to register factory for plugin cuFFT when one has already been registered\n",
      "WARNING: All log messages before absl::InitializeLog() is called are written to STDERR\n",
      "E0000 00:00:1754092849.013389      36 cuda_dnn.cc:8310] Unable to register cuDNN factory: Attempting to register factory for plugin cuDNN when one has already been registered\n",
      "E0000 00:00:1754092849.112071      36 cuda_blas.cc:1418] Unable to register cuBLAS factory: Attempting to register factory for plugin cuBLAS when one has already been registered\n"
     ]
    }
   ],
   "source": [
    "import pandas as pd\n",
    "import numpy as np\n",
    "import torch\n",
    "import random\n",
    "import re\n",
    "from tqdm import tqdm\n",
    "from transformers import AutoTokenizer, AutoModel\n",
    "from torch.utils.data import Dataset, DataLoader\n",
    "import torch.nn as nn\n",
    "from sklearn.model_selection import train_test_split\n",
    "from sklearn.metrics import classification_report, f1_score, accuracy_score\n",
    "from textattack.augmentation import EasyDataAugmenter\n"
   ]
  },
  {
   "cell_type": "code",
   "execution_count": 3,
   "metadata": {
    "execution": {
     "iopub.execute_input": "2025-08-02T00:01:10.553938Z",
     "iopub.status.busy": "2025-08-02T00:01:10.553406Z",
     "iopub.status.idle": "2025-08-02T00:01:10.816554Z",
     "shell.execute_reply": "2025-08-02T00:01:10.815900Z",
     "shell.execute_reply.started": "2025-08-02T00:01:10.553907Z"
    },
    "trusted": true
   },
   "outputs": [
    {
     "name": "stdout",
     "output_type": "stream",
     "text": [
      "Original class counts: {0: 19190, 2: 4163, 1: 1430}\n"
     ]
    }
   ],
   "source": [
    "df = pd.read_csv('/kaggle/input/hate-speech-and-offensive-language-dataset/labeled_data.csv')\n",
    "df = df[['tweet', 'class']].dropna()\n",
    "label_map = {0: 1, 1: 0, 2: 2}  # Hate=1, Offensive=0, Neutral=2\n",
    "df['label'] = df['class'].map(label_map)\n",
    "\n",
    "def clean_text(text):\n",
    "    text = re.sub(r\"http\\S+\", \"\", str(text))\n",
    "    text = re.sub(r\"\\s+\", \" \", text).strip()\n",
    "    return text\n",
    "\n",
    "df['tweet'] = df['tweet'].apply(clean_text)\n",
    "print(\"Original class counts:\", dict(df['label'].value_counts()))\n"
   ]
  },
  {
   "cell_type": "code",
   "execution_count": 4,
   "metadata": {
    "execution": {
     "iopub.execute_input": "2025-08-02T00:01:10.818503Z",
     "iopub.status.busy": "2025-08-02T00:01:10.818261Z",
     "iopub.status.idle": "2025-08-02T00:17:36.844826Z",
     "shell.execute_reply": "2025-08-02T00:17:36.844186Z",
     "shell.execute_reply.started": "2025-08-02T00:01:10.818482Z"
    },
    "trusted": true
   },
   "outputs": [
    {
     "name": "stdout",
     "output_type": "stream",
     "text": [
      "Target samples per class: 19190\n"
     ]
    },
    {
     "name": "stderr",
     "output_type": "stream",
     "text": [
      "[nltk_data] Downloading package omw-1.4 to /usr/share/nltk_data...\n",
      "Augmenting label 1: 100%|██████████| 17760/17760 [08:42<00:00, 34.00it/s]\n",
      "Augmenting label 2: 100%|██████████| 15027/15027 [07:40<00:00, 32.61it/s]"
     ]
    },
    {
     "name": "stdout",
     "output_type": "stream",
     "text": [
      "Balanced class counts: {1: 19190, 2: 19190, 0: 19190}\n"
     ]
    },
    {
     "name": "stderr",
     "output_type": "stream",
     "text": [
      "\n"
     ]
    }
   ],
   "source": [
    "hate_df = df[df['label'] == 1]\n",
    "neutral_df = df[df['label'] == 2]\n",
    "offensive_df = df[df['label'] == 0]\n",
    "\n",
    "target_size = max(len(hate_df), len(neutral_df), len(offensive_df))\n",
    "print(\"Target samples per class:\", target_size)\n",
    "\n",
    "augmenter = EasyDataAugmenter()\n",
    "\n",
    "def augment_class(df_class, target_size, label):\n",
    "    texts = df_class['tweet'].tolist()\n",
    "    aug_texts = []\n",
    "    needed = target_size - len(texts)\n",
    "    if needed > 0:\n",
    "        per_text = max(1, int(np.ceil(needed / len(texts))))\n",
    "        # Loop through and augment\n",
    "        with tqdm(total=needed, desc=f\"Augmenting label {label}\") as pbar:\n",
    "            i = 0\n",
    "            while len(aug_texts) < needed:\n",
    "                t = texts[i % len(texts)]\n",
    "                try:\n",
    "                    aug = augmenter.augment(t)\n",
    "                except Exception:\n",
    "                    aug = []\n",
    "                if aug and aug[0].strip() and aug[0] != t:\n",
    "                    aug_texts.append(aug[0])\n",
    "                    pbar.update(1)\n",
    "                i += 1\n",
    "    all_texts = texts + aug_texts[:needed]\n",
    "    return pd.DataFrame({'tweet': all_texts, 'label': [label] * target_size})\n",
    "\n",
    "hate_bal = augment_class(hate_df, target_size, 1)\n",
    "neutral_bal = augment_class(neutral_df, target_size, 2)\n",
    "offensive_bal = offensive_df.sample(target_size, replace=True, random_state=42).reset_index(drop=True)\n",
    "offensive_bal = pd.DataFrame({'tweet': offensive_bal['tweet'], 'label': [0] * target_size})\n",
    "\n",
    "# Combine and shuffle\n",
    "final_df = pd.concat([offensive_bal, hate_bal, neutral_bal]).sample(frac=1, random_state=42).reset_index(drop=True)\n",
    "print(\"Balanced class counts:\", dict(final_df['label'].value_counts()))\n"
   ]
  },
  {
   "cell_type": "code",
   "execution_count": 5,
   "metadata": {
    "execution": {
     "iopub.execute_input": "2025-08-02T00:17:36.845783Z",
     "iopub.status.busy": "2025-08-02T00:17:36.845560Z",
     "iopub.status.idle": "2025-08-02T00:17:36.898685Z",
     "shell.execute_reply": "2025-08-02T00:17:36.898204Z",
     "shell.execute_reply.started": "2025-08-02T00:17:36.845756Z"
    },
    "trusted": true
   },
   "outputs": [],
   "source": [
    "X = final_df['tweet'].tolist()\n",
    "y = final_df['label'].tolist()\n",
    "train_texts, val_texts, train_labels, val_labels = train_test_split(\n",
    "    X, y, test_size=0.2, random_state=42, stratify=y)\n"
   ]
  },
  {
   "cell_type": "code",
   "execution_count": 6,
   "metadata": {
    "execution": {
     "iopub.execute_input": "2025-08-02T00:17:36.899782Z",
     "iopub.status.busy": "2025-08-02T00:17:36.899476Z",
     "iopub.status.idle": "2025-08-02T00:17:44.194861Z",
     "shell.execute_reply": "2025-08-02T00:17:44.194019Z",
     "shell.execute_reply.started": "2025-08-02T00:17:36.899751Z"
    },
    "trusted": true
   },
   "outputs": [
    {
     "data": {
      "application/vnd.jupyter.widget-view+json": {
       "model_id": "080ff6b86000479bb648f69329a5bbeb",
       "version_major": 2,
       "version_minor": 0
      },
      "text/plain": [
       "tokenizer_config.json:   0%|          | 0.00/151 [00:00<?, ?B/s]"
      ]
     },
     "metadata": {},
     "output_type": "display_data"
    },
    {
     "data": {
      "application/vnd.jupyter.widget-view+json": {
       "model_id": "79543317b9fc4dd896d73f5420aa0e9d",
       "version_major": 2,
       "version_minor": 0
      },
      "text/plain": [
       "config.json: 0.00B [00:00, ?B/s]"
      ]
     },
     "metadata": {},
     "output_type": "display_data"
    },
    {
     "data": {
      "application/vnd.jupyter.widget-view+json": {
       "model_id": "8537ee6a16ea422e9b5d09787bd8d07d",
       "version_major": 2,
       "version_minor": 0
      },
      "text/plain": [
       "vocab.txt: 0.00B [00:00, ?B/s]"
      ]
     },
     "metadata": {},
     "output_type": "display_data"
    },
    {
     "data": {
      "application/vnd.jupyter.widget-view+json": {
       "model_id": "4b081879aae84f1daa026b54206b2cde",
       "version_major": 2,
       "version_minor": 0
      },
      "text/plain": [
       "special_tokens_map.json:   0%|          | 0.00/112 [00:00<?, ?B/s]"
      ]
     },
     "metadata": {},
     "output_type": "display_data"
    }
   ],
   "source": [
    "tokenizer = AutoTokenizer.from_pretrained(\"GroNLP/hateBERT\")\n",
    "max_len = 64\n",
    "\n",
    "def encode_texts(texts, tokenizer, max_len=64):\n",
    "    return tokenizer(\n",
    "        texts,\n",
    "        padding='max_length',\n",
    "        truncation=True,\n",
    "        max_length=max_len,\n",
    "        return_tensors='pt'\n",
    "    )\n",
    "\n",
    "class BertLSTMDataset(Dataset):\n",
    "    def __init__(self, texts, labels, tokenizer, max_len):\n",
    "        encodings = encode_texts(texts, tokenizer, max_len)\n",
    "        self.input_ids = encodings['input_ids']\n",
    "        self.attention_mask = encodings['attention_mask']\n",
    "        self.labels = torch.tensor(labels)\n",
    "    def __len__(self):\n",
    "        return len(self.labels)\n",
    "    def __getitem__(self, idx):\n",
    "        return {\n",
    "            'input_ids': self.input_ids[idx],\n",
    "            'attention_mask': self.attention_mask[idx],\n",
    "            'labels': self.labels[idx]\n",
    "        }\n",
    "\n",
    "train_dataset = BertLSTMDataset(train_texts, train_labels, tokenizer, max_len)\n",
    "val_dataset = BertLSTMDataset(val_texts, val_labels, tokenizer, max_len)\n",
    "train_loader = DataLoader(train_dataset, batch_size=16, shuffle=True)\n",
    "val_loader = DataLoader(val_dataset, batch_size=32)\n"
   ]
  },
  {
   "cell_type": "code",
   "execution_count": 7,
   "metadata": {
    "execution": {
     "iopub.execute_input": "2025-08-02T00:17:44.196058Z",
     "iopub.status.busy": "2025-08-02T00:17:44.195762Z",
     "iopub.status.idle": "2025-08-02T00:17:52.800317Z",
     "shell.execute_reply": "2025-08-02T00:17:52.799725Z",
     "shell.execute_reply.started": "2025-08-02T00:17:44.196027Z"
    },
    "trusted": true
   },
   "outputs": [
    {
     "data": {
      "application/vnd.jupyter.widget-view+json": {
       "model_id": "ab2e218db0b8464b9db95c924862eebc",
       "version_major": 2,
       "version_minor": 0
      },
      "text/plain": [
       "model.safetensors:   0%|          | 0.00/440M [00:00<?, ?B/s]"
      ]
     },
     "metadata": {},
     "output_type": "display_data"
    }
   ],
   "source": [
    "class BertLSTMClassifier(nn.Module):\n",
    "    def __init__(self, bert_model_name=\"GroNLP/hateBERT\", lstm_hidden_size=128, lstm_layers=1, num_classes=3, freeze_bert=True):\n",
    "        super().__init__()\n",
    "        self.bert = AutoModel.from_pretrained(bert_model_name)\n",
    "        if freeze_bert:\n",
    "            for param in self.bert.parameters():\n",
    "                param.requires_grad = False\n",
    "        self.lstm = nn.LSTM(\n",
    "            input_size=self.bert.config.hidden_size,\n",
    "            hidden_size=lstm_hidden_size,\n",
    "            num_layers=lstm_layers,\n",
    "            batch_first=True,\n",
    "            bidirectional=True\n",
    "        )\n",
    "        self.dropout = nn.Dropout(0.3)\n",
    "        self.classifier = nn.Linear(lstm_hidden_size * 4, num_classes)\n",
    "\n",
    "    def forward(self, input_ids, attention_mask):\n",
    "        with torch.set_grad_enabled(not self.bert.embeddings.word_embeddings.weight.requires_grad):\n",
    "            outputs = self.bert(input_ids=input_ids, attention_mask=attention_mask)\n",
    "        x = outputs.last_hidden_state\n",
    "        lstm_out, _ = self.lstm(x)\n",
    "        avg_pool = torch.mean(lstm_out, 1)\n",
    "        max_pool, _ = torch.max(lstm_out, 1)\n",
    "        pooled = torch.cat((avg_pool, max_pool), 1)\n",
    "        out = self.dropout(pooled)\n",
    "        logits = self.classifier(out)\n",
    "        return logits\n",
    "\n",
    "device = torch.device(\"cuda\" if torch.cuda.is_available() else \"cpu\")\n",
    "model = BertLSTMClassifier(freeze_bert=True).to(device)\n"
   ]
  },
  {
   "cell_type": "code",
   "execution_count": 8,
   "metadata": {
    "execution": {
     "iopub.execute_input": "2025-08-02T00:17:52.801256Z",
     "iopub.status.busy": "2025-08-02T00:17:52.801038Z",
     "iopub.status.idle": "2025-08-02T01:14:17.139575Z",
     "shell.execute_reply": "2025-08-02T01:14:17.138800Z",
     "shell.execute_reply.started": "2025-08-02T00:17:52.801237Z"
    },
    "trusted": true
   },
   "outputs": [
    {
     "name": "stderr",
     "output_type": "stream",
     "text": [
      "Train Epoch 1: 100%|██████████| 2879/2879 [02:49<00:00, 16.97it/s]\n"
     ]
    },
    {
     "name": "stdout",
     "output_type": "stream",
     "text": [
      "Epoch 1 Train Loss: 0.5311 | Acc: 0.7820 | F1: 0.7806\n"
     ]
    },
    {
     "name": "stderr",
     "output_type": "stream",
     "text": [
      "Val Epoch 1: 100%|██████████| 360/360 [00:43<00:00,  8.26it/s]\n"
     ]
    },
    {
     "name": "stdout",
     "output_type": "stream",
     "text": [
      "Epoch 1 Val Loss: 0.4238 | Acc: 0.8324 | F1: 0.8332\n",
      "              precision    recall  f1-score   support\n",
      "\n",
      "   Offensive     0.8081    0.8317    0.8197      3838\n",
      "        Hate     0.7802    0.8072    0.7934      3838\n",
      "     Neutral     0.9168    0.8583    0.8866      3838\n",
      "\n",
      "    accuracy                         0.8324     11514\n",
      "   macro avg     0.8350    0.8324    0.8332     11514\n",
      "weighted avg     0.8350    0.8324    0.8332     11514\n",
      "\n"
     ]
    },
    {
     "name": "stderr",
     "output_type": "stream",
     "text": [
      "Train Epoch 2: 100%|██████████| 2879/2879 [03:02<00:00, 15.80it/s]\n"
     ]
    },
    {
     "name": "stdout",
     "output_type": "stream",
     "text": [
      "Epoch 2 Train Loss: 0.3699 | Acc: 0.8557 | F1: 0.8550\n"
     ]
    },
    {
     "name": "stderr",
     "output_type": "stream",
     "text": [
      "Val Epoch 2: 100%|██████████| 360/360 [00:43<00:00,  8.20it/s]\n"
     ]
    },
    {
     "name": "stdout",
     "output_type": "stream",
     "text": [
      "Epoch 2 Val Loss: 0.3165 | Acc: 0.8816 | F1: 0.8817\n",
      "              precision    recall  f1-score   support\n",
      "\n",
      "   Offensive     0.8376    0.8830    0.8597      3838\n",
      "        Hate     0.8792    0.8398    0.8590      3838\n",
      "     Neutral     0.9308    0.9221    0.9264      3838\n",
      "\n",
      "    accuracy                         0.8816     11514\n",
      "   macro avg     0.8825    0.8816    0.8817     11514\n",
      "weighted avg     0.8825    0.8816    0.8817     11514\n",
      "\n"
     ]
    },
    {
     "name": "stderr",
     "output_type": "stream",
     "text": [
      "Train Epoch 3: 100%|██████████| 2879/2879 [03:01<00:00, 15.83it/s]\n"
     ]
    },
    {
     "name": "stdout",
     "output_type": "stream",
     "text": [
      "Epoch 3 Train Loss: 0.2730 | Acc: 0.8993 | F1: 0.8990\n"
     ]
    },
    {
     "name": "stderr",
     "output_type": "stream",
     "text": [
      "Val Epoch 3: 100%|██████████| 360/360 [00:43<00:00,  8.20it/s]\n"
     ]
    },
    {
     "name": "stdout",
     "output_type": "stream",
     "text": [
      "Epoch 3 Val Loss: 0.2436 | Acc: 0.9105 | F1: 0.9101\n",
      "              precision    recall  f1-score   support\n",
      "\n",
      "   Offensive     0.8812    0.9010    0.8910      3838\n",
      "        Hate     0.9205    0.8632    0.8910      3838\n",
      "     Neutral     0.9301    0.9672    0.9483      3838\n",
      "\n",
      "    accuracy                         0.9105     11514\n",
      "   macro avg     0.9106    0.9105    0.9101     11514\n",
      "weighted avg     0.9106    0.9105    0.9101     11514\n",
      "\n"
     ]
    },
    {
     "name": "stderr",
     "output_type": "stream",
     "text": [
      "Train Epoch 4: 100%|██████████| 2879/2879 [03:02<00:00, 15.82it/s]\n"
     ]
    },
    {
     "name": "stdout",
     "output_type": "stream",
     "text": [
      "Epoch 4 Train Loss: 0.2039 | Acc: 0.9265 | F1: 0.9263\n"
     ]
    },
    {
     "name": "stderr",
     "output_type": "stream",
     "text": [
      "Val Epoch 4: 100%|██████████| 360/360 [00:43<00:00,  8.21it/s]\n"
     ]
    },
    {
     "name": "stdout",
     "output_type": "stream",
     "text": [
      "Epoch 4 Val Loss: 0.1790 | Acc: 0.9399 | F1: 0.9398\n",
      "              precision    recall  f1-score   support\n",
      "\n",
      "   Offensive     0.9494    0.8999    0.9240      3838\n",
      "        Hate     0.9157    0.9588    0.9367      3838\n",
      "     Neutral     0.9562    0.9609    0.9585      3838\n",
      "\n",
      "    accuracy                         0.9399     11514\n",
      "   macro avg     0.9404    0.9399    0.9398     11514\n",
      "weighted avg     0.9404    0.9399    0.9398     11514\n",
      "\n"
     ]
    },
    {
     "name": "stderr",
     "output_type": "stream",
     "text": [
      "Train Epoch 5: 100%|██████████| 2879/2879 [03:01<00:00, 15.82it/s]\n"
     ]
    },
    {
     "name": "stdout",
     "output_type": "stream",
     "text": [
      "Epoch 5 Train Loss: 0.1571 | Acc: 0.9449 | F1: 0.9448\n"
     ]
    },
    {
     "name": "stderr",
     "output_type": "stream",
     "text": [
      "Val Epoch 5: 100%|██████████| 360/360 [00:43<00:00,  8.20it/s]\n"
     ]
    },
    {
     "name": "stdout",
     "output_type": "stream",
     "text": [
      "Epoch 5 Val Loss: 0.1643 | Acc: 0.9446 | F1: 0.9446\n",
      "              precision    recall  f1-score   support\n",
      "\n",
      "   Offensive     0.9166    0.9448    0.9305      3838\n",
      "        Hate     0.9569    0.9200    0.9381      3838\n",
      "     Neutral     0.9615    0.9690    0.9652      3838\n",
      "\n",
      "    accuracy                         0.9446     11514\n",
      "   macro avg     0.9450    0.9446    0.9446     11514\n",
      "weighted avg     0.9450    0.9446    0.9446     11514\n",
      "\n"
     ]
    },
    {
     "name": "stderr",
     "output_type": "stream",
     "text": [
      "Train Epoch 6: 100%|██████████| 2879/2879 [03:02<00:00, 15.80it/s]\n"
     ]
    },
    {
     "name": "stdout",
     "output_type": "stream",
     "text": [
      "Epoch 6 Train Loss: 0.1290 | Acc: 0.9547 | F1: 0.9546\n"
     ]
    },
    {
     "name": "stderr",
     "output_type": "stream",
     "text": [
      "Val Epoch 6: 100%|██████████| 360/360 [00:44<00:00,  8.17it/s]\n"
     ]
    },
    {
     "name": "stdout",
     "output_type": "stream",
     "text": [
      "Epoch 6 Val Loss: 0.1217 | Acc: 0.9599 | F1: 0.9598\n",
      "              precision    recall  f1-score   support\n",
      "\n",
      "   Offensive     0.9612    0.9367    0.9488      3838\n",
      "        Hate     0.9625    0.9552    0.9588      3838\n",
      "     Neutral     0.9561    0.9878    0.9717      3838\n",
      "\n",
      "    accuracy                         0.9599     11514\n",
      "   macro avg     0.9599    0.9599    0.9598     11514\n",
      "weighted avg     0.9599    0.9599    0.9598     11514\n",
      "\n"
     ]
    },
    {
     "name": "stderr",
     "output_type": "stream",
     "text": [
      "Train Epoch 7: 100%|██████████| 2879/2879 [03:02<00:00, 15.78it/s]\n"
     ]
    },
    {
     "name": "stdout",
     "output_type": "stream",
     "text": [
      "Epoch 7 Train Loss: 0.1057 | Acc: 0.9632 | F1: 0.9632\n"
     ]
    },
    {
     "name": "stderr",
     "output_type": "stream",
     "text": [
      "Val Epoch 7: 100%|██████████| 360/360 [00:44<00:00,  8.17it/s]\n"
     ]
    },
    {
     "name": "stdout",
     "output_type": "stream",
     "text": [
      "Epoch 7 Val Loss: 0.1070 | Acc: 0.9639 | F1: 0.9638\n",
      "              precision    recall  f1-score   support\n",
      "\n",
      "   Offensive     0.9615    0.9442    0.9528      3838\n",
      "        Hate     0.9539    0.9768    0.9652      3838\n",
      "     Neutral     0.9764    0.9706    0.9735      3838\n",
      "\n",
      "    accuracy                         0.9639     11514\n",
      "   macro avg     0.9640    0.9639    0.9638     11514\n",
      "weighted avg     0.9640    0.9639    0.9638     11514\n",
      "\n"
     ]
    },
    {
     "name": "stderr",
     "output_type": "stream",
     "text": [
      "Train Epoch 8: 100%|██████████| 2879/2879 [03:02<00:00, 15.78it/s]\n"
     ]
    },
    {
     "name": "stdout",
     "output_type": "stream",
     "text": [
      "Epoch 8 Train Loss: 0.0874 | Acc: 0.9696 | F1: 0.9695\n"
     ]
    },
    {
     "name": "stderr",
     "output_type": "stream",
     "text": [
      "Val Epoch 8: 100%|██████████| 360/360 [00:44<00:00,  8.16it/s]\n"
     ]
    },
    {
     "name": "stdout",
     "output_type": "stream",
     "text": [
      "Epoch 8 Val Loss: 0.0941 | Acc: 0.9693 | F1: 0.9693\n",
      "              precision    recall  f1-score   support\n",
      "\n",
      "   Offensive     0.9606    0.9591    0.9598      3838\n",
      "        Hate     0.9682    0.9745    0.9713      3838\n",
      "     Neutral     0.9793    0.9745    0.9769      3838\n",
      "\n",
      "    accuracy                         0.9693     11514\n",
      "   macro avg     0.9694    0.9693    0.9693     11514\n",
      "weighted avg     0.9694    0.9693    0.9693     11514\n",
      "\n"
     ]
    },
    {
     "name": "stderr",
     "output_type": "stream",
     "text": [
      "Train Epoch 9: 100%|██████████| 2879/2879 [03:02<00:00, 15.76it/s]\n"
     ]
    },
    {
     "name": "stdout",
     "output_type": "stream",
     "text": [
      "Epoch 9 Train Loss: 0.0745 | Acc: 0.9743 | F1: 0.9742\n"
     ]
    },
    {
     "name": "stderr",
     "output_type": "stream",
     "text": [
      "Val Epoch 9: 100%|██████████| 360/360 [00:44<00:00,  8.16it/s]\n"
     ]
    },
    {
     "name": "stdout",
     "output_type": "stream",
     "text": [
      "Epoch 9 Val Loss: 0.0915 | Acc: 0.9715 | F1: 0.9715\n",
      "              precision    recall  f1-score   support\n",
      "\n",
      "   Offensive     0.9677    0.9612    0.9644      3838\n",
      "        Hate     0.9677    0.9758    0.9717      3838\n",
      "     Neutral     0.9791    0.9776    0.9784      3838\n",
      "\n",
      "    accuracy                         0.9715     11514\n",
      "   macro avg     0.9715    0.9715    0.9715     11514\n",
      "weighted avg     0.9715    0.9715    0.9715     11514\n",
      "\n"
     ]
    },
    {
     "name": "stderr",
     "output_type": "stream",
     "text": [
      "Train Epoch 10: 100%|██████████| 2879/2879 [03:03<00:00, 15.71it/s]\n"
     ]
    },
    {
     "name": "stdout",
     "output_type": "stream",
     "text": [
      "Epoch 10 Train Loss: 0.0646 | Acc: 0.9780 | F1: 0.9779\n"
     ]
    },
    {
     "name": "stderr",
     "output_type": "stream",
     "text": [
      "Val Epoch 10: 100%|██████████| 360/360 [00:44<00:00,  8.10it/s]\n"
     ]
    },
    {
     "name": "stdout",
     "output_type": "stream",
     "text": [
      "Epoch 10 Val Loss: 0.0947 | Acc: 0.9706 | F1: 0.9705\n",
      "              precision    recall  f1-score   support\n",
      "\n",
      "   Offensive     0.9772    0.9479    0.9623      3838\n",
      "        Hate     0.9570    0.9849    0.9707      3838\n",
      "     Neutral     0.9781    0.9789    0.9785      3838\n",
      "\n",
      "    accuracy                         0.9706     11514\n",
      "   macro avg     0.9708    0.9706    0.9705     11514\n",
      "weighted avg     0.9708    0.9706    0.9705     11514\n",
      "\n"
     ]
    },
    {
     "name": "stderr",
     "output_type": "stream",
     "text": [
      "Train Epoch 11: 100%|██████████| 2879/2879 [03:02<00:00, 15.75it/s]\n"
     ]
    },
    {
     "name": "stdout",
     "output_type": "stream",
     "text": [
      "Epoch 11 Train Loss: 0.0562 | Acc: 0.9804 | F1: 0.9803\n"
     ]
    },
    {
     "name": "stderr",
     "output_type": "stream",
     "text": [
      "Val Epoch 11: 100%|██████████| 360/360 [00:44<00:00,  8.16it/s]\n"
     ]
    },
    {
     "name": "stdout",
     "output_type": "stream",
     "text": [
      "Epoch 11 Val Loss: 0.1175 | Acc: 0.9596 | F1: 0.9596\n",
      "              precision    recall  f1-score   support\n",
      "\n",
      "   Offensive     0.9502    0.9492    0.9497      3838\n",
      "        Hate     0.9438    0.9888    0.9658      3838\n",
      "     Neutral     0.9869    0.9409    0.9633      3838\n",
      "\n",
      "    accuracy                         0.9596     11514\n",
      "   macro avg     0.9603    0.9596    0.9596     11514\n",
      "weighted avg     0.9603    0.9596    0.9596     11514\n",
      "\n"
     ]
    },
    {
     "name": "stderr",
     "output_type": "stream",
     "text": [
      "Train Epoch 12: 100%|██████████| 2879/2879 [03:02<00:00, 15.77it/s]\n"
     ]
    },
    {
     "name": "stdout",
     "output_type": "stream",
     "text": [
      "Epoch 12 Train Loss: 0.0476 | Acc: 0.9834 | F1: 0.9834\n"
     ]
    },
    {
     "name": "stderr",
     "output_type": "stream",
     "text": [
      "Val Epoch 12: 100%|██████████| 360/360 [00:43<00:00,  8.18it/s]\n"
     ]
    },
    {
     "name": "stdout",
     "output_type": "stream",
     "text": [
      "Epoch 12 Val Loss: 0.0779 | Acc: 0.9772 | F1: 0.9771\n",
      "              precision    recall  f1-score   support\n",
      "\n",
      "   Offensive     0.9900    0.9531    0.9712      3838\n",
      "        Hate     0.9634    0.9885    0.9758      3838\n",
      "     Neutral     0.9789    0.9898    0.9843      3838\n",
      "\n",
      "    accuracy                         0.9772     11514\n",
      "   macro avg     0.9774    0.9772    0.9771     11514\n",
      "weighted avg     0.9774    0.9772    0.9771     11514\n",
      "\n"
     ]
    },
    {
     "name": "stderr",
     "output_type": "stream",
     "text": [
      "Train Epoch 13: 100%|██████████| 2879/2879 [03:01<00:00, 15.82it/s]\n"
     ]
    },
    {
     "name": "stdout",
     "output_type": "stream",
     "text": [
      "Epoch 13 Train Loss: 0.0436 | Acc: 0.9848 | F1: 0.9848\n"
     ]
    },
    {
     "name": "stderr",
     "output_type": "stream",
     "text": [
      "Val Epoch 13: 100%|██████████| 360/360 [00:43<00:00,  8.19it/s]\n"
     ]
    },
    {
     "name": "stdout",
     "output_type": "stream",
     "text": [
      "Epoch 13 Val Loss: 0.0847 | Acc: 0.9767 | F1: 0.9767\n",
      "              precision    recall  f1-score   support\n",
      "\n",
      "   Offensive     0.9801    0.9630    0.9715      3838\n",
      "        Hate     0.9715    0.9844    0.9779      3838\n",
      "     Neutral     0.9787    0.9828    0.9808      3838\n",
      "\n",
      "    accuracy                         0.9767     11514\n",
      "   macro avg     0.9768    0.9767    0.9767     11514\n",
      "weighted avg     0.9768    0.9767    0.9767     11514\n",
      "\n"
     ]
    },
    {
     "name": "stderr",
     "output_type": "stream",
     "text": [
      "Train Epoch 14: 100%|██████████| 2879/2879 [03:02<00:00, 15.80it/s]\n"
     ]
    },
    {
     "name": "stdout",
     "output_type": "stream",
     "text": [
      "Epoch 14 Train Loss: 0.0420 | Acc: 0.9853 | F1: 0.9853\n"
     ]
    },
    {
     "name": "stderr",
     "output_type": "stream",
     "text": [
      "Val Epoch 14: 100%|██████████| 360/360 [00:44<00:00,  8.17it/s]\n"
     ]
    },
    {
     "name": "stdout",
     "output_type": "stream",
     "text": [
      "Epoch 14 Val Loss: 0.0777 | Acc: 0.9790 | F1: 0.9790\n",
      "              precision    recall  f1-score   support\n",
      "\n",
      "   Offensive     0.9895    0.9601    0.9746      3838\n",
      "        Hate     0.9686    0.9870    0.9777      3838\n",
      "     Neutral     0.9794    0.9898    0.9846      3838\n",
      "\n",
      "    accuracy                         0.9790     11514\n",
      "   macro avg     0.9792    0.9790    0.9790     11514\n",
      "weighted avg     0.9792    0.9790    0.9790     11514\n",
      "\n"
     ]
    },
    {
     "name": "stderr",
     "output_type": "stream",
     "text": [
      "Train Epoch 15: 100%|██████████| 2879/2879 [03:02<00:00, 15.78it/s]\n"
     ]
    },
    {
     "name": "stdout",
     "output_type": "stream",
     "text": [
      "Epoch 15 Train Loss: 0.0360 | Acc: 0.9879 | F1: 0.9879\n"
     ]
    },
    {
     "name": "stderr",
     "output_type": "stream",
     "text": [
      "Val Epoch 15: 100%|██████████| 360/360 [00:44<00:00,  8.15it/s]"
     ]
    },
    {
     "name": "stdout",
     "output_type": "stream",
     "text": [
      "Epoch 15 Val Loss: 0.0838 | Acc: 0.9773 | F1: 0.9773\n",
      "              precision    recall  f1-score   support\n",
      "\n",
      "   Offensive     0.9778    0.9653    0.9715      3838\n",
      "        Hate     0.9684    0.9896    0.9789      3838\n",
      "     Neutral     0.9861    0.9771    0.9815      3838\n",
      "\n",
      "    accuracy                         0.9773     11514\n",
      "   macro avg     0.9774    0.9773    0.9773     11514\n",
      "weighted avg     0.9774    0.9773    0.9773     11514\n",
      "\n",
      "=== Training Complete ===\n"
     ]
    },
    {
     "name": "stderr",
     "output_type": "stream",
     "text": [
      "\n"
     ]
    }
   ],
   "source": [
    "import matplotlib.pyplot as plt\n",
    "from sklearn.metrics import confusion_matrix, ConfusionMatrixDisplay\n",
    "\n",
    "train_losses, val_losses = [], []\n",
    "train_accuracies, val_accuracies = [], []\n",
    "\n",
    "optimizer = torch.optim.AdamW(model.parameters(), lr=2e-4)\n",
    "criterion = nn.CrossEntropyLoss()\n",
    "num_epochs = 15\n",
    "\n",
    "for epoch in range(num_epochs):\n",
    "    # Training\n",
    "    model.train()\n",
    "    train_loss, train_preds, train_true = 0, [], []\n",
    "    for batch in tqdm(train_loader, desc=f\"Train Epoch {epoch+1}\"):\n",
    "        optimizer.zero_grad()\n",
    "        input_ids = batch['input_ids'].to(device)\n",
    "        attention_mask = batch['attention_mask'].to(device)\n",
    "        labels = batch['labels'].to(device)\n",
    "        logits = model(input_ids, attention_mask)\n",
    "        loss = criterion(logits, labels)\n",
    "        loss.backward()\n",
    "        optimizer.step()\n",
    "        train_loss += loss.item()\n",
    "        preds = torch.argmax(logits, dim=1)\n",
    "        train_preds += preds.cpu().numpy().tolist()\n",
    "        train_true += labels.cpu().numpy().tolist()\n",
    "    train_f1 = f1_score(train_true, train_preds, average='macro')\n",
    "    train_acc = accuracy_score(train_true, train_preds)\n",
    "    train_losses.append(train_loss / len(train_loader))\n",
    "    train_accuracies.append(train_acc)\n",
    "    print(f\"Epoch {epoch+1} Train Loss: {train_losses[-1]:.4f} | Acc: {train_acc:.4f} | F1: {train_f1:.4f}\")\n",
    "\n",
    "    # Validation\n",
    "    model.eval()\n",
    "    val_loss, val_preds, val_true = 0, [], []\n",
    "    with torch.no_grad():\n",
    "        for batch in tqdm(val_loader, desc=f\"Val Epoch {epoch+1}\"):\n",
    "            input_ids = batch['input_ids'].to(device)\n",
    "            attention_mask = batch['attention_mask'].to(device)\n",
    "            labels = batch['labels'].to(device)\n",
    "            logits = model(input_ids, attention_mask)\n",
    "            loss = criterion(logits, labels)\n",
    "            val_loss += loss.item()\n",
    "            preds = torch.argmax(logits, dim=1)\n",
    "            val_preds += preds.cpu().numpy().tolist()\n",
    "            val_true += labels.cpu().numpy().tolist()\n",
    "    val_f1 = f1_score(val_true, val_preds, average='macro')\n",
    "    val_acc = accuracy_score(val_true, val_preds)\n",
    "    val_losses.append(val_loss / len(val_loader))\n",
    "    val_accuracies.append(val_acc)\n",
    "    print(f\"Epoch {epoch+1} Val Loss: {val_losses[-1]:.4f} | Acc: {val_acc:.4f} | F1: {val_f1:.4f}\")\n",
    "    print(classification_report(val_true, val_preds, digits=4, target_names=[\"Offensive\", \"Hate\", \"Neutral\"]))\n",
    "\n",
    "print(\"=== Training Complete ===\")\n"
   ]
  },
  {
   "cell_type": "code",
   "execution_count": 9,
   "metadata": {
    "execution": {
     "iopub.execute_input": "2025-08-02T01:14:17.140712Z",
     "iopub.status.busy": "2025-08-02T01:14:17.140446Z",
     "iopub.status.idle": "2025-08-02T01:14:17.727996Z",
     "shell.execute_reply": "2025-08-02T01:14:17.727320Z",
     "shell.execute_reply.started": "2025-08-02T01:14:17.140692Z"
    },
    "trusted": true
   },
   "outputs": [
    {
     "data": {
      "image/png": "[encoded data removed]",
      "text/plain": [
       "<Figure size 1200x500 with 2 Axes>"
      ]
     },
     "metadata": {},
     "output_type": "display_data"
    }
   ],
   "source": [
    "import matplotlib.pyplot as plt\n",
    "\n",
    "epochs_range = range(1, num_epochs + 1)\n",
    "\n",
    "plt.figure(figsize=(12, 5))\n",
    "plt.subplot(1, 2, 1)\n",
    "plt.plot(epochs_range, train_losses, label=\"Train Loss\")\n",
    "plt.plot(epochs_range, val_losses, label=\"Val Loss\")\n",
    "plt.xlabel(\"Epoch\")\n",
    "plt.ylabel(\"Loss\")\n",
    "plt.title(\"Loss Curve\")\n",
    "plt.legend()\n",
    "plt.grid(True)\n",
    "\n",
    "plt.subplot(1, 2, 2)\n",
    "plt.plot(epochs_range, train_accuracies, label=\"Train Accuracy\")\n",
    "plt.plot(epochs_range, val_accuracies, label=\"Val Accuracy\")\n",
    "plt.xlabel(\"Epoch\")\n",
    "plt.ylabel(\"Accuracy\")\n",
    "plt.title(\"Accuracy Curve\")\n",
    "plt.legend()\n",
    "plt.grid(True)\n",
    "plt.tight_layout()\n",
    "plt.show()\n"
   ]
  },
  {
   "cell_type": "code",
   "execution_count": 10,
   "metadata": {
    "execution": {
     "iopub.execute_input": "2025-08-02T01:14:17.730284Z",
     "iopub.status.busy": "2025-08-02T01:14:17.730052Z",
     "iopub.status.idle": "2025-08-02T01:14:17.903863Z",
     "shell.execute_reply": "2025-08-02T01:14:17.903264Z",
     "shell.execute_reply.started": "2025-08-02T01:14:17.730268Z"
    },
    "trusted": true
   },
   "outputs": [
    {
     "data": {
      "image/png": "[encoded data removed]",
      "text/plain": [
       "<Figure size 500x500 with 2 Axes>"
      ]
     },
     "metadata": {},
     "output_type": "display_data"
    }
   ],
   "source": [
    "from sklearn.metrics import confusion_matrix, ConfusionMatrixDisplay\n",
    "\n",
    "cm = confusion_matrix(val_true, val_preds)\n",
    "disp = ConfusionMatrixDisplay(confusion_matrix=cm, display_labels=[\"Offensive\", \"Hate\", \"Neutral\"])\n",
    "fig, ax = plt.subplots(figsize=(5, 5))\n",
    "disp.plot(ax=ax, cmap=\"Blues\", values_format=\"d\")\n",
    "plt.title(\"Confusion Matrix (Validation Set)\")\n",
    "plt.show()\n"
   ]
  },
  {
   "cell_type": "code",
   "execution_count": null,
   "metadata": {
    "trusted": true
   },
   "outputs": [],
   "source": []
  }
 ],
 "metadata": {
  "kaggle": {
   "accelerator": "nvidiaTeslaT4",
   "dataSources": [
    {
     "datasetId": 723100,
     "sourceId": 1257215,
     "sourceType": "datasetVersion"
    },
    {
     "datasetId": 762846,
     "sourceId": 1316384,
     "sourceType": "datasetVersion"
    }
   ],
   "dockerImageVersionId": 31090,
   "isGpuEnabled": true,
   "isInternetEnabled": true,
   "language": "python",
   "sourceType": "notebook"
  },
  "kernelspec": {
   "display_name": "Python 3",
   "language": "python",
   "name": "python3"
  },
  "language_info": {
   "codemirror_mode": {
    "name": "ipython",
    "version": 3
   },
   "file_extension": ".py",
   "mimetype": "text/x-python",
   "name": "python",
   "nbconvert_exporter": "python",
   "pygments_lexer": "ipython3",
   "version": "3.11.13"
  }
 },
 "nbformat": 4,
 "nbformat_minor": 4
}
